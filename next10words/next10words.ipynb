{
 "cells": [
  {
   "cell_type": "markdown",
   "id": "ab4b992e-cb69-4293-ab07-abffb896bae4",
   "metadata": {},
   "source": [
    "## Bitte geben Sie in das Textfeld einen beliebigen Satz ein. ##"
   ]
  },
  {
   "cell_type": "code",
   "execution_count": 1,
   "id": "f4d020ed-394e-451b-8510-e896cec41dd2",
   "metadata": {},
   "outputs": [
    {
     "name": "stdout",
     "output_type": "stream",
     "text": [
      "Requirement already satisfied: requests in c:\\users\\sebas\\anaconda3\\lib\\site-packages (2.32.3)\n",
      "Requirement already satisfied: charset-normalizer<4,>=2 in c:\\users\\sebas\\anaconda3\\lib\\site-packages (from requests) (3.3.2)\n",
      "Requirement already satisfied: idna<4,>=2.5 in c:\\users\\sebas\\anaconda3\\lib\\site-packages (from requests) (3.7)\n",
      "Requirement already satisfied: urllib3<3,>=1.21.1 in c:\\users\\sebas\\anaconda3\\lib\\site-packages (from requests) (2.2.3)\n",
      "Requirement already satisfied: certifi>=2017.4.17 in c:\\users\\sebas\\anaconda3\\lib\\site-packages (from requests) (2025.4.26)\n"
     ]
    }
   ],
   "source": [
    "!pip install requests"
   ]
  },
  {
   "cell_type": "code",
   "execution_count": 2,
   "id": "7d9c8277-d59b-4287-a721-fd8e8cd203a8",
   "metadata": {},
   "outputs": [],
   "source": [
    "import requests\n",
    "\n",
    "def ask_ollama_top_k(prompt, model=\"gemma3\", top_k=10):\n",
    "    ollama_url = \"http://localhost:11434/api/generate\"\n",
    "    \n",
    "    full_prompt = (\n",
    "        f\"Was sind die {top_k} wahrscheinlichsten nächsten Wörter \"\n",
    "        f\"nach folgendem Text:\\n\\\"{prompt}\\\"\\n\"\n",
    "        f\"Antworte nur mit einer nummerierten Liste von Wörtern ohne weitere Erklärungen.\"\n",
    "    )\n",
    "    \n",
    "    try:\n",
    "        response = requests.post(ollama_url, json={\n",
    "            \"model\": model,\n",
    "            \"prompt\": full_prompt,\n",
    "            \"stream\": False\n",
    "        })\n",
    "\n",
    "        if response.status_code == 200:\n",
    "            return response.json().get(\"response\", \"\").strip()\n",
    "        else:\n",
    "            return f\"Server-Fehler: {response.status_code}\"\n",
    "    except Exception as e:\n",
    "        return f\"Anfrage-Fehler: {str(e)}\"\n"
   ]
  },
  {
   "cell_type": "markdown",
   "id": "eeb25770-1259-48a9-8751-b15405df2425",
   "metadata": {},
   "source": [
    "## Bitte geben Sie hier einen beliebigen Satz ein:"
   ]
  },
  {
   "cell_type": "code",
   "execution_count": 5,
   "id": "33d3ad65-d0a4-4557-9489-71adbbedd745",
   "metadata": {},
   "outputs": [
    {
     "name": "stdin",
     "output_type": "stream",
     "text": [
      "Bitte Satzanfang eingeben:  Es ist 12:00 Uhr, und damit Zeit fürs\n"
     ]
    }
   ],
   "source": [
    "# Eingabe in einer Zelle\n",
    "prompt = input(\"Bitte Satzanfang eingeben: \")"
   ]
  },
  {
   "cell_type": "code",
   "execution_count": 6,
   "id": "3ae7e2cc-fea1-4cf2-9658-ca1a597c7405",
   "metadata": {},
   "outputs": [
    {
     "name": "stdout",
     "output_type": "stream",
     "text": [
      "Antwort von gemma (geschätzt):\n",
      "\n",
      "1. Mittag\n",
      "2. Essen\n",
      "3. Pause\n",
      "4. Uhrzeit\n",
      "5. Jetzt\n",
      "6. Sonst\n",
      "7. Beginn\n",
      "8. Spiel\n",
      "9. Zeit\n",
      "10. Schon\n"
     ]
    }
   ],
   "source": [
    "# Anfrage an gemma:7b senden\n",
    "result = ask_ollama_top_k(prompt)\n",
    "\n",
    "# Ausgabe\n",
    "print(\"Antwort von gemma (geschätzt):\\n\")\n",
    "print(result)\n"
   ]
  },
  {
   "cell_type": "code",
   "execution_count": null,
   "id": "7d6fb72d-a413-4c21-b4ff-9de82f0ff1a7",
   "metadata": {},
   "outputs": [],
   "source": []
  }
 ],
 "metadata": {
  "kernelspec": {
   "display_name": "Python [conda env:base] *",
   "language": "python",
   "name": "conda-base-py"
  },
  "language_info": {
   "codemirror_mode": {
    "name": "ipython",
    "version": 3
   },
   "file_extension": ".py",
   "mimetype": "text/x-python",
   "name": "python",
   "nbconvert_exporter": "python",
   "pygments_lexer": "ipython3",
   "version": "3.12.7"
  }
 },
 "nbformat": 4,
 "nbformat_minor": 5
}
