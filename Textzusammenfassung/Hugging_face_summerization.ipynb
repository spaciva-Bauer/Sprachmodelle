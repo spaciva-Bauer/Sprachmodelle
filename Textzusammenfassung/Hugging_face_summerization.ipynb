{
 "cells": [
  {
   "cell_type": "raw",
   "id": "ca0b4747",
   "metadata": {},
   "source": [
    "pip install transformers"
   ]
  },
  {
   "cell_type": "raw",
   "id": "77e7afd4",
   "metadata": {},
   "source": [
    "pip install jinja2==3.1.0"
   ]
  },
  {
   "cell_type": "code",
   "execution_count": null,
   "id": "411ad7e2",
   "metadata": {},
   "outputs": [],
   "source": [
    "from transformers import pipeline"
   ]
  },
  {
   "cell_type": "code",
   "execution_count": null,
   "id": "50db7c00",
   "metadata": {},
   "outputs": [],
   "source": [
    "text=\"Hier steht der zusammenfassende Text!\""
   ]
  },
  {
   "cell_type": "code",
   "execution_count": null,
   "id": "2bd2919b",
   "metadata": {},
   "outputs": [],
   "source": [
    "print(text)"
   ]
  },
  {
   "cell_type": "code",
   "execution_count": null,
   "id": "3e6ea9f2",
   "metadata": {},
   "outputs": [],
   "source": [
    "pipe = pipeline(\"summarization\", model=\"Shahm/t5-small-german\", device=-1)\n",
    "antwortprompt = pipe(text, min_length=200)"
   ]
  },
  {
   "cell_type": "code",
   "execution_count": null,
   "id": "e603e064",
   "metadata": {},
   "outputs": [],
   "source": [
    "antwortprompt"
   ]
  },
  {
   "cell_type": "code",
   "execution_count": null,
   "id": "624e07b6",
   "metadata": {},
   "outputs": [],
   "source": [
    "antwort = (antwortprompt[0])"
   ]
  },
  {
   "cell_type": "code",
   "execution_count": null,
   "id": "afc3a681",
   "metadata": {},
   "outputs": [],
   "source": [
    "antwort['summary_text']"
   ]
  },
  {
   "cell_type": "code",
   "execution_count": null,
   "id": "0e336dba",
   "metadata": {},
   "outputs": [],
   "source": []
  }
 ],
 "metadata": {
  "kernelspec": {
   "display_name": "Python 3 (ipykernel)",
   "language": "python",
   "name": "python3"
  },
  "language_info": {
   "codemirror_mode": {
    "name": "ipython",
    "version": 3
   },
   "file_extension": ".py",
   "mimetype": "text/x-python",
   "name": "python",
   "nbconvert_exporter": "python",
   "pygments_lexer": "ipython3",
   "version": "3.9.12"
  }
 },
 "nbformat": 4,
 "nbformat_minor": 5
}
