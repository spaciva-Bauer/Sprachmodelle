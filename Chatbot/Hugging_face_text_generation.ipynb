{
 "cells": [
  {
   "cell_type": "raw",
   "id": "ca0b4747",
   "metadata": {},
   "source": [
    "pip install transformers"
   ]
  },
  {
   "cell_type": "raw",
   "id": "77e7afd4",
   "metadata": {},
   "source": [
    "pip install jinja2==3.1.0"
   ]
  },
  {
   "cell_type": "code",
   "execution_count": null,
   "id": "411ad7e2",
   "metadata": {},
   "outputs": [],
   "source": [
    "from transformers import pipeline"
   ]
  },
  {
   "cell_type": "code",
   "execution_count": null,
   "id": "3e6ea9f2",
   "metadata": {},
   "outputs": [],
   "source": [
    "pipe = pipeline(\"text-generation\", model=\"LiquidAI/LFM2-350M\", device=0, max_new_tokens=500, temperature=0.5,)\n",
    "messages = [\n",
    "    {\"role\": \"system\", \"content\": \"Antworte immer auf Deutsch, trotzig und genervt.\"},\n",
    "    {\"role\": \"user\", \"content\": \"Schön, Dich hier zu sehen. Ich heiße übrigens Alf.\"},\n",
    "    {\"role\": \"user\", \"content\": \"Weißt Du noch wie ich heiße?\"},\n",
    "]\n",
    "antwortprompt = pipe(messages)"
   ]
  },
  {
   "cell_type": "code",
   "execution_count": null,
   "id": "e603e064",
   "metadata": {},
   "outputs": [],
   "source": [
    "antwortprompt"
   ]
  },
  {
   "cell_type": "code",
   "execution_count": null,
   "id": "624e07b6",
   "metadata": {},
   "outputs": [],
   "source": [
    "antwort= (antwortprompt[0])\n",
    "antwort['generated_text'][-1]['content']"
   ]
  },
  {
   "cell_type": "code",
   "execution_count": null,
   "id": "afc3a681",
   "metadata": {},
   "outputs": [],
   "source": []
  },
  {
   "cell_type": "code",
   "execution_count": null,
   "id": "0e336dba",
   "metadata": {},
   "outputs": [],
   "source": []
  }
 ],
 "metadata": {
  "kernelspec": {
   "display_name": "Python 3 (ipykernel)",
   "language": "python",
   "name": "python3"
  },
  "language_info": {
   "codemirror_mode": {
    "name": "ipython",
    "version": 3
   },
   "file_extension": ".py",
   "mimetype": "text/x-python",
   "name": "python",
   "nbconvert_exporter": "python",
   "pygments_lexer": "ipython3",
   "version": "3.9.12"
  }
 },
 "nbformat": 4,
 "nbformat_minor": 5
}
