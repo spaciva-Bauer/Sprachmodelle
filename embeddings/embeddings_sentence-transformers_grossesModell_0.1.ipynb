{
 "cells": [
  {
   "cell_type": "raw",
   "id": "cf4ddc49",
   "metadata": {},
   "source": [
    "pip install sentence-transformers"
   ]
  },
  {
   "cell_type": "code",
   "execution_count": null,
   "id": "5e0c7192",
   "metadata": {},
   "outputs": [],
   "source": [
    "from sentence_transformers import SentenceTransformer\n",
    "sentences = [\"Ich gehe spazieren und setze mich auf eine Bank.\", \"Ich gehe zur Bank, um Geld abzuheben.\",\"Ich muss eine Überweisung abgeben, um meine Rechnung zu bezahlen.\"]\n",
    "\n",
    "model = SentenceTransformer('sentence-transformers/paraphrase-multilingual-MiniLM-L12-v2')\n",
    "embeddings = model.encode(sentences)\n",
    "print(embeddings)\n"
   ]
  },
  {
   "cell_type": "code",
   "execution_count": null,
   "id": "c459236d",
   "metadata": {},
   "outputs": [],
   "source": [
    "print (sentences[0])\n",
    "Ausgabe = \"Dimension:\" + str(len(embeddings[0]))\n",
    "print (Ausgabe)"
   ]
  },
  {
   "cell_type": "code",
   "execution_count": null,
   "id": "32eb8262",
   "metadata": {},
   "outputs": [],
   "source": [
    "print (sentences[1])\n",
    "Ausgabe = \"Dimension:\" + str(len(embeddings[1]))\n",
    "print (Ausgabe)"
   ]
  },
  {
   "cell_type": "code",
   "execution_count": null,
   "id": "87953964",
   "metadata": {},
   "outputs": [],
   "source": [
    "print (sentences[2])\n",
    "Ausgabe = \"Dimension:\" + str(len(embeddings[2]))\n",
    "print (Ausgabe)"
   ]
  },
  {
   "cell_type": "code",
   "execution_count": null,
   "id": "bcc6a37a",
   "metadata": {},
   "outputs": [],
   "source": [
    "print (sentences[0], sentences[1])\n",
    "similarities = model.similarity(embeddings[0], embeddings[1])\n",
    "print (similarities)"
   ]
  },
  {
   "cell_type": "code",
   "execution_count": null,
   "id": "36f81337",
   "metadata": {},
   "outputs": [],
   "source": [
    "print (sentences[1], sentences[2])\n",
    "similarities = model.similarity(embeddings[1], embeddings[2])\n",
    "print (similarities)"
   ]
  },
  {
   "cell_type": "code",
   "execution_count": null,
   "id": "c03e31ca",
   "metadata": {},
   "outputs": [],
   "source": [
    "print (sentences[0], sentences[2])\n",
    "similarities = model.similarity(embeddings[0], embeddings[2])\n",
    "print (similarities)"
   ]
  }
 ],
 "metadata": {
  "kernelspec": {
   "display_name": "Python 3 (ipykernel)",
   "language": "python",
   "name": "python3"
  },
  "language_info": {
   "codemirror_mode": {
    "name": "ipython",
    "version": 3
   },
   "file_extension": ".py",
   "mimetype": "text/x-python",
   "name": "python",
   "nbconvert_exporter": "python",
   "pygments_lexer": "ipython3",
   "version": "3.9.12"
  }
 },
 "nbformat": 4,
 "nbformat_minor": 5
}
