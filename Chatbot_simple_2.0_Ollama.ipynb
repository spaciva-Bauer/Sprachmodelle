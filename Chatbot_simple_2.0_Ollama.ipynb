{
 "cells": [
  {
   "cell_type": "raw",
   "id": "aafa8aaa-cbab-43a9-8f23-812c6b166636",
   "metadata": {},
   "source": [
    "wird nur bei der ersten Ausführung benötigt"
   ]
  },
  {
   "cell_type": "raw",
   "id": "27ceda97-fd7f-4235-b2cb-9d41634b8df3",
   "metadata": {},
   "source": [
    "pip install ollama"
   ]
  },
  {
   "cell_type": "markdown",
   "id": "282ca636",
   "metadata": {},
   "source": [
    "# Einfacher Python-Client für einen Chat-Assistenten"
   ]
  },
  {
   "cell_type": "markdown",
   "id": "fc44b184",
   "metadata": {},
   "source": [
    "### Die freie Software ollama bietet ein Python-Modul an, welches alle notwendigen Funktionen enthält, um mit einem Sprachmodell Kontakt aufzunehmen."
   ]
  },
  {
   "cell_type": "code",
   "execution_count": null,
   "id": "ac8d39ac",
   "metadata": {},
   "outputs": [],
   "source": [
    "import ollama"
   ]
  },
  {
   "cell_type": "markdown",
   "id": "31624afc",
   "metadata": {},
   "source": [
    "****************************************************************************************************"
   ]
  },
  {
   "cell_type": "code",
   "execution_count": null,
   "id": "57bdf8e8",
   "metadata": {},
   "outputs": [],
   "source": [
    "kreativitaet = 0 # Werte zwischen 0 und 1 sind möglich; 1 ist maximale Kreativitaet der Antwort"
   ]
  },
  {
   "cell_type": "markdown",
   "id": "6b99dfac",
   "metadata": {},
   "source": [
    "****************************************************************************************************"
   ]
  },
  {
   "cell_type": "markdown",
   "id": "15e7cf2d",
   "metadata": {},
   "source": [
    "## 1. Formuliere die erste Anfrage an das System"
   ]
  },
  {
   "cell_type": "code",
   "execution_count": null,
   "id": "471afaae",
   "metadata": {},
   "outputs": [],
   "source": [
    "systempromt = \"Du bist ein Chatbot. Antworte immer total genervt und trotzig.\""
   ]
  },
  {
   "cell_type": "code",
   "execution_count": null,
   "id": "569eed7f",
   "metadata": {},
   "outputs": [],
   "source": [
    "userprompt1 = \"Wer bin ich?\""
   ]
  },
  {
   "cell_type": "code",
   "execution_count": null,
   "id": "909f3af8",
   "metadata": {},
   "outputs": [],
   "source": [
    "messages1 = [\n",
    "    {\"role\": \"system\", \"content\": systempromt},\n",
    "    {\"role\": \"user\", \"content\": userprompt1},\n",
    "]"
   ]
  },
  {
   "cell_type": "code",
   "execution_count": null,
   "id": "7ca1f38d",
   "metadata": {},
   "outputs": [],
   "source": [
    "antwort1 = ollama.chat(\n",
    "    model=\"gemma3:1b\",\n",
    "    messages=messages1,\n",
    "options = {\n",
    "  'temperature': kreativitaet\n",
    "}\n",
    ")"
   ]
  },
  {
   "cell_type": "code",
   "execution_count": null,
   "id": "44fa52a2",
   "metadata": {},
   "outputs": [],
   "source": [
    "print(antwort1['message']['content'])"
   ]
  },
  {
   "cell_type": "markdown",
   "id": "080ff448",
   "metadata": {},
   "source": [
    "****************************************************************************************************"
   ]
  },
  {
   "cell_type": "markdown",
   "id": "0de8ff20",
   "metadata": {},
   "source": [
    "## 2. Stelle dem System eine weitere Frage mit Bezug zur ersten Antwort"
   ]
  },
  {
   "cell_type": "code",
   "execution_count": null,
   "id": "5f2f847e",
   "metadata": {},
   "outputs": [],
   "source": [
    "userprompt2=\"Sei nicht so garstig!\""
   ]
  },
  {
   "cell_type": "code",
   "execution_count": null,
   "id": "51e1b218",
   "metadata": {},
   "outputs": [],
   "source": [
    "messages2 = [\n",
    "    {\"role\": \"system\", \"content\": systempromt},\n",
    "    {\"role\": \"user\", \"content\": userprompt1},\n",
    "    {\"role\": \"assistant\", \"content\": antwort1['message']['content']},\n",
    "    {\"role\": \"user\", \"content\": userprompt2},\n",
    "]"
   ]
  },
  {
   "cell_type": "code",
   "execution_count": null,
   "id": "044ebbee",
   "metadata": {},
   "outputs": [],
   "source": [
    "antwort2 = ollama.chat(\n",
    "    model=\"gemma3:1b\",\n",
    "    messages=messages1,\n",
    "options = {\n",
    "  'temperature': kreativitaet\n",
    "}\n",
    ")"
   ]
  },
  {
   "cell_type": "code",
   "execution_count": null,
   "id": "30787a59",
   "metadata": {},
   "outputs": [],
   "source": [
    "print(antwort2['message']['content'])"
   ]
  },
  {
   "cell_type": "markdown",
   "id": "abcfb76a",
   "metadata": {},
   "source": [
    "****************************************************************************************************"
   ]
  },
  {
   "cell_type": "markdown",
   "id": "71f59536",
   "metadata": {},
   "source": [
    "## 3. Aufgaben"
   ]
  },
  {
   "cell_type": "markdown",
   "id": "98a743b8",
   "metadata": {},
   "source": [
    "* Experimentiere mit der Systemantwort.\n",
    "  \n",
    "  Der Chatbot soll...\n",
    "   * höflich antworten\n",
    "   * jede Antwort ins Spanische übersetzen\n",
    "   * wie ein Pirat sprechen\n",
    "   "
   ]
  },
  {
   "cell_type": "markdown",
   "id": "5f3e63f2",
   "metadata": {},
   "source": [
    "* Erweitere den Code so, dass eine weitere Frage-Antwort-Sequenz entsteht."
   ]
  },
  {
   "cell_type": "markdown",
   "id": "3c77a114",
   "metadata": {},
   "source": [
    "* Experimentiere mit dem Wert der **Kreativität**. Beschreibe die Auswirkung der gewählten Niveaustufen von 0 - 1 in Bezug auf die Antwort des Systems."
   ]
  },
  {
   "cell_type": "markdown",
   "id": "5a91cda1",
   "metadata": {},
   "source": [
    "* Nun soll eine beliebig lange Frage-Antwort-Sequenz unter Einbezug des gesamten Chat-Verlaufes entstehen. Erweitere den Code! \n",
    "   \n",
    " **Tipp:** Der Datentyp für die messages-Variablen ist \"list\". Finde eine Möglichkeit, einer Python-Liste dynamisch Werte hinzuzufügen.  "
   ]
  }
 ],
 "metadata": {
  "kernelspec": {
   "display_name": "Python 3 (ipykernel)",
   "language": "python",
   "name": "python3"
  },
  "language_info": {
   "codemirror_mode": {
    "name": "ipython",
    "version": 3
   },
   "file_extension": ".py",
   "mimetype": "text/x-python",
   "name": "python",
   "nbconvert_exporter": "python",
   "pygments_lexer": "ipython3",
   "version": "3.9.12"
  }
 },
 "nbformat": 4,
 "nbformat_minor": 5
}
